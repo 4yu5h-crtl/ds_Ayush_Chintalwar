{
  "nbformat": 4,
  "nbformat_minor": 0,
  "metadata": {
    "colab": {
      "provenance": []
    },
    "kernelspec": {
      "name": "python3",
      "display_name": "Python 3"
    },
    "language_info": {
      "name": "python"
    }
  },
  "cells": [
    {
      "cell_type": "markdown",
      "source": [
        "# Imports"
      ],
      "metadata": {
        "id": "GGXK1rwV1JlZ"
      }
    },
    {
      "cell_type": "code",
      "execution_count": null,
      "metadata": {
        "id": "SKB3R9ye1Ieb"
      },
      "outputs": [],
      "source": [
        "import pandas as pd\n",
        "import numpy as np\n",
        "import matplotlib.pyplot as plt\n",
        "import seaborn as sns\n",
        "from scipy.stats import ttest_ind, mannwhitneyu, skew, kurtosis\n",
        "from statsmodels.tsa.stattools import adfuller, grangercausalitytests\n",
        "from statsmodels.tsa.api import VAR\n",
        "from statsmodels.stats.multitest import multipletests\n",
        "import statsmodels.formula.api as smf\n",
        "from sklearn.preprocessing import StandardScaler\n",
        "from sklearn.cluster import KMeans\n",
        "from sklearn.ensemble import RandomForestClassifier\n",
        "from sklearn.model_selection import TimeSeriesSplit, cross_val_score\n",
        "import warnings\n",
        "warnings.filterwarnings(\"ignore\")\n",
        "sns.set_style(\"whitegrid\")\n",
        "plt.rcParams[\"figure.figsize\"] = (10,5)"
      ]
    },
    {
      "cell_type": "markdown",
      "source": [
        "# Paths"
      ],
      "metadata": {
        "id": "UC0PDXiH1MgW"
      }
    },
    {
      "cell_type": "code",
      "source": [
        "fear_greed_path = \"/content/fear_greed_index.csv\"\n",
        "trades_path = \"/content/historical_data.csv\""
      ],
      "metadata": {
        "id": "ZhTz6T7u1OCB"
      },
      "execution_count": null,
      "outputs": []
    },
    {
      "cell_type": "markdown",
      "source": [
        "# Load and parse Fear & Greed / BTC data"
      ],
      "metadata": {
        "id": "Xonp8tzx1RyH"
      }
    },
    {
      "cell_type": "code",
      "source": [
        "fg = pd.read_csv(fear_greed_path, dtype=str)\n",
        "trades = pd.read_csv(trades_path, dtype=str)\n",
        "fg.columns = [c.strip() for c in fg.columns]\n",
        "if 'timestamp' in fg.columns:\n",
        "    fg['timestamp_num'] = pd.to_numeric(fg['timestamp'], errors='coerce')\n",
        "    fg.loc[~fg['timestamp_num'].isna(), 'fg_dt_from_ts'] = pd.to_datetime(\n",
        "        fg.loc[~fg['timestamp_num'].isna(), 'timestamp_num'], unit='s', utc=True\n",
        "    ).dt.tz_convert(None)\n",
        "if 'date' in fg.columns:\n",
        "    fg['fg_date_parsed'] = pd.to_datetime(fg['date'], dayfirst=True, errors='coerce')\n",
        "mask = fg['fg_date_parsed'].isna() & fg.get('timestamp_num').notna()\n",
        "if mask.any():\n",
        "    fg.loc[mask, 'fg_date_parsed'] = pd.to_datetime(\n",
        "        fg.loc[mask, 'timestamp_num'], unit='s', errors='coerce', utc=True\n",
        "    ).dt.tz_convert(None)\n",
        "fg['date'] = pd.to_datetime(fg['fg_date_parsed']).dt.normalize()\n",
        "fg['fg_class'] = fg['classification'].str.strip().str.title() if 'classification' in fg.columns else np.nan\n",
        "fg['fg_value'] = pd.to_numeric(fg['value'], errors='coerce') if 'value' in fg.columns else np.nan\n",
        "price_cols = [c for c in fg.columns if any(k in c.lower() for k in ['price','close','close_usd','btc'])]\n",
        "fg['btc_price'] = pd.to_numeric(fg[price_cols[0]], errors='coerce') if price_cols else np.nan\n",
        "fg = fg[['date','fg_value','fg_class','btc_price']].dropna(subset=['date']).reset_index(drop=True)"
      ],
      "metadata": {
        "id": "AfCzsXI71S9C"
      },
      "execution_count": null,
      "outputs": []
    },
    {
      "cell_type": "markdown",
      "source": [
        "# Load and parse trades"
      ],
      "metadata": {
        "id": "Y9ihlFGv1VUQ"
      }
    },
    {
      "cell_type": "code",
      "source": [
        "trades.columns = [c.strip() for c in trades.columns]\n",
        "trades.rename(columns=lambda x: x.strip().replace(' ', '_').replace('.', '_').lower(), inplace=True)\n",
        "time_cols = [c for c in trades.columns if 'timestamp' in c]\n",
        "for c in time_cols:\n",
        "    parsed = pd.to_datetime(trades[c], dayfirst=True, errors='coerce', infer_datetime_format=True)\n",
        "    if parsed.notna().sum() > 0:\n",
        "        time_col = c\n",
        "        break\n",
        "raw_times = trades[time_col].astype(str).str.replace(r'(\\d{1,2})\\.(\\d{2})(?!\\d)', r'\\1:\\2', regex=True)\n",
        "parsed_times = pd.to_datetime(raw_times, dayfirst=True, errors='coerce', infer_datetime_format=True)\n",
        "parsed_times = parsed_times.dt.tz_localize('Asia/Kolkata', ambiguous='NaT', nonexistent='NaT').dt.tz_convert(None)\n",
        "if parsed_times.isna().sum() > 0.5 * len(parsed_times):\n",
        "    parsed_times = pd.to_datetime(trades[time_col], errors='coerce', infer_datetime_format=True)\n",
        "trades['trade_datetime'] = parsed_times\n",
        "trades['trade_date'] = pd.to_datetime(trades['trade_datetime']).dt.normalize()\n",
        "num_cols = ['execution_price','size_tokens','size_usd','closed_pnl','fee','leverage']\n",
        "for col in num_cols:\n",
        "    if col in trades.columns:\n",
        "        trades[col] = pd.to_numeric(trades[col].astype(str).str.replace(',',''), errors='coerce')\n",
        "if 'side' in trades.columns:\n",
        "    trades['side'] = trades['side'].str.strip().str.upper()\n",
        "if 'account' in trades.columns:\n",
        "    trades['account'] = trades['account'].astype(str).str.strip()"
      ],
      "metadata": {
        "id": "MGPi1Vl81Yf6"
      },
      "execution_count": null,
      "outputs": []
    },
    {
      "cell_type": "markdown",
      "source": [
        "# Feature engineering"
      ],
      "metadata": {
        "id": "QSpg0oKq1ZKL"
      }
    },
    {
      "cell_type": "code",
      "source": [
        "trades['size_usd_abs'] = trades['size_usd'].abs()\n",
        "trades['return_pct'] = trades['closed_pnl'] / trades['size_usd'].replace({0:np.nan})\n",
        "trades['pnl_per_usd'] = trades['closed_pnl'] / trades['size_usd'].replace({0:np.nan})"
      ],
      "metadata": {
        "id": "9H2EAHOC1ae9"
      },
      "execution_count": null,
      "outputs": []
    },
    {
      "cell_type": "markdown",
      "source": [
        "# Daily aggregation"
      ],
      "metadata": {
        "id": "Kr3ScV9S1cQj"
      }
    },
    {
      "cell_type": "code",
      "source": [
        "daily = trades.groupby('trade_date').agg(\n",
        "    total_volume_usd = ('size_usd_abs', 'sum'),\n",
        "    mean_closed_pnl = ('closed_pnl', 'mean'),\n",
        "    pnl_std = ('closed_pnl', 'std'),\n",
        "    mean_return_pct = ('return_pct', 'mean'),\n",
        "    win_rate = ('closed_pnl', lambda x: np.nanmean(x>0)),\n",
        "    median_leverage = ('leverage', 'median') if 'leverage' in trades.columns else ('size_usd','count')\n",
        ").reset_index().rename(columns={'trade_date':'date'})\n",
        "fg_daily = fg[['date','fg_value','fg_class','btc_price']].drop_duplicates(subset=['date'])\n",
        "merged = pd.merge(daily, fg_daily, on='date', how='left').fillna(method='ffill')\n",
        "if merged['btc_price'].notna().any():\n",
        "    merged['btc_ret'] = merged['btc_price'].pct_change().fillna(0)"
      ],
      "metadata": {
        "id": "NoEUAUv01e_K"
      },
      "execution_count": null,
      "outputs": []
    },
    {
      "cell_type": "markdown",
      "source": [
        "# Visualization: Sentiment trend"
      ],
      "metadata": {
        "id": "b5K04cCO1gkh"
      }
    },
    {
      "cell_type": "code",
      "source": [
        "plt.figure(figsize=(12,5))\n",
        "sns.lineplot(data=fg, x='date', y='fg_value', hue='fg_class', palette='coolwarm')\n",
        "plt.title(\"Fear & Greed Index Over Time\")\n",
        "plt.show()"
      ],
      "metadata": {
        "id": "PmUi4bpj1iL9"
      },
      "execution_count": null,
      "outputs": []
    },
    {
      "cell_type": "markdown",
      "source": [
        "# Visualization: Trader metrics vs sentiment"
      ],
      "metadata": {
        "id": "cXxMDSQA1k5F"
      }
    },
    {
      "cell_type": "code",
      "source": [
        "fig, axes = plt.subplots(2,1, figsize=(12,8), sharex=True)\n",
        "sns.lineplot(data=merged, x='date', y='total_volume_usd', ax=axes[0])\n",
        "axes[0].set_title(\"Total Trading Volume Over Time\")\n",
        "sns.lineplot(data=merged, x='date', y='mean_closed_pnl', ax=axes[1])\n",
        "axes[1].set_title(\"Mean Closed PnL Over Time\")\n",
        "plt.show()"
      ],
      "metadata": {
        "id": "rUkKHL801mjM"
      },
      "execution_count": null,
      "outputs": []
    },
    {
      "cell_type": "markdown",
      "source": [
        "# Distribution comparison Fear vs Greed"
      ],
      "metadata": {
        "id": "JhCq0K-B1oNQ"
      }
    },
    {
      "cell_type": "code",
      "source": [
        "metrics_to_plot = ['total_volume_usd','mean_closed_pnl','mean_return_pct','win_rate']\n",
        "for metric in metrics_to_plot:\n",
        "    if metric in merged.columns:\n",
        "        plt.figure()\n",
        "        sns.boxplot(data=merged, x='fg_class', y=metric, palette='coolwarm')\n",
        "        plt.title(f\"{metric} by Sentiment Phase\")\n",
        "        plt.show()"
      ],
      "metadata": {
        "id": "svIzql7V1qC2"
      },
      "execution_count": null,
      "outputs": []
    },
    {
      "cell_type": "markdown",
      "source": [
        "# Event study visualization"
      ],
      "metadata": {
        "id": "4n2U3KHE1ro9"
      }
    },
    {
      "cell_type": "code",
      "source": [
        "fg_series = fg.set_index('date')['fg_class'].dropna()\n",
        "regime_changes = fg_series[fg_series != fg_series.shift(1)].index\n",
        "k = 7\n",
        "events = []\n",
        "for d in regime_changes:\n",
        "    window = merged.set_index('date').loc[d - pd.Timedelta(days=k) : d + pd.Timedelta(days=k)].reset_index()\n",
        "    if not window.empty:\n",
        "        window['offset'] = (window['date'] - d).dt.days\n",
        "        window['event_date'] = d\n",
        "        events.append(window[['offset','total_volume_usd','mean_closed_pnl']])\n",
        "if events:\n",
        "    event_df = pd.concat(events, ignore_index=True)\n",
        "    plt.figure()\n",
        "    sns.lineplot(data=event_df, x='offset', y='total_volume_usd')\n",
        "    plt.axvline(0, color='red', linestyle='--')\n",
        "    plt.title(\"Event Study: Volume Around Sentiment Switch\")\n",
        "    plt.show()"
      ],
      "metadata": {
        "id": "7_JQEbi31uXl"
      },
      "execution_count": null,
      "outputs": []
    },
    {
      "cell_type": "markdown",
      "source": [
        "# Clustering visualization"
      ],
      "metadata": {
        "id": "QG2TvrBt1x30"
      }
    },
    {
      "cell_type": "code",
      "source": [
        "if 'account' in trades.columns:\n",
        "    acct = trades.groupby('account').agg(\n",
        "        total_volume = ('size_usd_abs', 'sum'),\n",
        "        trade_count = ('size_usd', 'count'),\n",
        "        avg_trade_size = ('size_usd_abs', 'mean'),\n",
        "        avg_pnl = ('closed_pnl','mean'),\n",
        "        win_rate = ('closed_pnl', lambda x: np.nanmean(x>0))\n",
        "    ).reset_index().fillna(0)\n",
        "    X = acct[['total_volume','trade_count','avg_trade_size','avg_pnl','win_rate']].values\n",
        "    Xs = StandardScaler().fit_transform(X)\n",
        "    km = KMeans(n_clusters=4, random_state=42).fit(Xs)\n",
        "    acct['cluster'] = km.labels_\n",
        "    plt.figure()\n",
        "    sns.scatterplot(data=acct, x='total_volume', y='avg_pnl', hue='cluster', palette='tab10')\n",
        "    plt.title(\"Trader Segmentation Clusters\")\n",
        "    plt.show()"
      ],
      "metadata": {
        "id": "P4DqDqx_1xDY"
      },
      "execution_count": null,
      "outputs": []
    },
    {
      "cell_type": "markdown",
      "source": [
        "# Feature importance visualization"
      ],
      "metadata": {
        "id": "OkH8d7d611vE"
      }
    },
    {
      "cell_type": "code",
      "source": [
        "dfp = merged.copy()\n",
        "dfp['fg_binary'] = dfp['fg_class'].str.lower().str.contains('greed').astype(int)\n",
        "dfp['vol_3d_mean'] = dfp['total_volume_usd'].rolling(3).mean()\n",
        "dfp['pnl_3d_mean'] = dfp['mean_closed_pnl'].rolling(3).mean()\n",
        "X = dfp[['vol_3d_mean','pnl_3d_mean']].shift(1).dropna()\n",
        "y = dfp['fg_binary'].loc[X.index]\n",
        "if y.nunique() == 2:\n",
        "    clf = RandomForestClassifier(random_state=42).fit(X,y)\n",
        "    fi = pd.Series(clf.feature_importances_, index=X.columns)\n",
        "    plt.figure()\n",
        "    fi.sort_values().plot(kind='barh')\n",
        "    plt.title(\"Feature Importance for Predicting Sentiment Phase\")\n",
        "    plt.show()"
      ],
      "metadata": {
        "id": "8gsVxnsd13Oj"
      },
      "execution_count": null,
      "outputs": []
    }
  ]
}